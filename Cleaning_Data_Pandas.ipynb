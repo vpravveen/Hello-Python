{
 "cells": [
  {
   "cell_type": "markdown",
   "metadata": {},
   "source": [
    "# Cleaning Data:"
   ]
  },
  {
   "cell_type": "markdown",
   "metadata": {},
   "source": [
    "Cleaning the data involves the following:\n",
    "\n",
    "1.Identify missing data\n",
    "\n",
    "2.Treat (delete or impute) missing values\n",
    "\n",
    "Generally in python missing data is represented by NaN(Not a Number) or NULL."
   ]
  },
  {
   "cell_type": "markdown",
   "metadata": {},
   "source": [
    "### 4 Main Methods to identify and treat missing data:"
   ]
  },
  {
   "cell_type": "markdown",
   "metadata": {},
   "source": [
    "#### isna():\n",
    "Indicates presence of a missing value, returns boolean.\n",
    "Return a boolean same-sized object indicating if the values are NA. NA values, such as None or numpy.NaN, gets mapped to True values. Everything else gets mapped to False values\n",
    "\n",
    "#### Syntax:\n",
    "DataFrame.isna()\n",
    "\n",
    "#### Returns:\n",
    "Dataframe: Mask of bool values for each element in DataFrame that indicates whether an element is not an NA value"
   ]
  },
  {
   "cell_type": "code",
   "execution_count": null,
   "metadata": {},
   "outputs": [],
   "source": [
    "df = pd.DataFrame({'age': [5, 6, np.NaN],\n",
    "...                    'born': [pd.NaT, pd.Timestamp('1939-05-27'),\n",
    "...                             pd.Timestamp('1940-04-25')],\n",
    "...                    'name': ['Alfred', 'Batman', ''],\n",
    "...                    'toy': [None, 'Batmobile', 'Joker']})\n",
    "\n",
    "df\n",
    "df.isna() #Show which entries in a DataFrame are NA.\n"
   ]
  },
  {
   "cell_type": "markdown",
   "metadata": {},
   "source": [
    "#### notna(): \n",
    "It is the opposite of isnull, returns boolean.\n",
    "Detect non-missing values for an array-like object.\n",
    "Return a boolean same-sized object indicating if the values are not NA. Non-missing values get mapped to True.None or numpy.NaN, get mapped to False values.\n",
    "\n",
    "#### Syntax:\n",
    "DataFrame.notna()\n",
    "\n",
    "#### Returns:\n",
    "DataFrame: Mask of bool values for each element in DataFrame that indicates whether an element is not an NA value\n"
   ]
  },
  {
   "cell_type": "code",
   "execution_count": null,
   "metadata": {},
   "outputs": [],
   "source": [
    "df = pd.DataFrame({'age': [5, 6, np.NaN],\n",
    "...                    'born': [pd.NaT, pd.Timestamp('1939-05-27'),\n",
    "...                             pd.Timestamp('1940-04-25')],\n",
    "...                    'name': ['Alfred', 'Batman', ''],\n",
    "...                    'toy': [None, 'Batmobile', 'Joker']})\n",
    "\n",
    "df\n",
    "df.notna() #Show which entries in a DataFrame are not NA."
   ]
  },
  {
   "cell_type": "markdown",
   "metadata": {},
   "source": [
    "#### dropna(): \n",
    "Drops the missing values from a dataframe and returns the rest.\n",
    "\n",
    "#### Syntax:\n",
    "DataFrame.dropna(axis=0, how='any', thresh=None, subset=None, inplace=False)\n",
    "\n",
    "#### Parameters:\n",
    "axis : \n",
    "{0 or ‘index’, 1 or ‘columns’}, default 0\n",
    "\n",
    "Determine if rows or columns which contain missing values are removed.\n",
    "•0, or ‘index’ : Drop rows which contain missing values.\n",
    "•1, or ‘columns’ : Drop columns which contain missing value\n",
    "\n",
    "how :\n",
    "{‘any’, ‘all’}, default ‘any’\n",
    "Determine if row or column is removed from DataFrame, when we have at least one NA or all NA.\n",
    "‘any’ : If any NA values are present, drop that row or column.\n",
    "‘all’ : If all values are NA, drop that row or column.\n",
    "\n",
    "thresh :\n",
    "int, optional\n",
    "Require that many non-NA values.\n",
    "\n",
    "subset :\n",
    "array-like, optional\n",
    "Labels along other axis to consider, e.g. if you are dropping rows these would be a list of columns to include.\n",
    "\n",
    "inplace :\n",
    "bool, default False\n",
    "If True, do operation inplace and return None.\n",
    "\n",
    "#### Returns: Dataframe\n",
    "DataFrame with NA entries dropped from it\n"
   ]
  },
  {
   "cell_type": "code",
   "execution_count": null,
   "metadata": {},
   "outputs": [],
   "source": [
    "df = pd.DataFrame({\"name\": ['Alfred', 'Batman', 'Catwoman'],\n",
    "...                    \"toy\": [np.nan, 'Batmobile', 'Bullwhip'],\n",
    "...                    \"born\": [pd.NaT, pd.Timestamp(\"1940-04-25\"),\n",
    "...                             pd.NaT]})\n",
    "df\n",
    "df.dropna() #Drop the rows where at least one element is missing.\n",
    "\n",
    "df.dropna(axis='columns') #Drop the columns where at least one element is missing\n",
    "\n",
    "df.dropna(how='all') #Drop the rows where all elements are missing.\n",
    "\n",
    "df.dropna(thresh=2) #Keep only the rows with at least 2 non-NA values.\n",
    "\n",
    "df.dropna(subset=['name', 'born']) #Define in which columns to look for missing values.\n",
    "\n",
    "df.dropna(inplace=True) #Keep the DataFrame with valid entries in the same variable.\n",
    "df"
   ]
  },
  {
   "cell_type": "markdown",
   "metadata": {},
   "source": [
    "#### fillna():\n",
    "Fill NA/NaN values using the specified method\n",
    "\n",
    "#### Syntax:\n",
    "DataFrame.fillna(value=None, method=None, axis=None, inplace=False, limit=None, downcast=None)\n",
    "\n",
    "#### Parameters:\n",
    "value :\n",
    "scalar, dict, Series, or DataFrame\n",
    "Value to use to fill holes (e.g. 0), alternately a dict/Series/DataFrame of values specifying which value to use for each index (for a Series) or column (for a DataFrame). (values not in the dict/Series/DataFrame will not be filled). This value cannot be a list.\n",
    "\n",
    "method :\n",
    "{‘backfill’, ‘bfill’, ‘pad’, ‘ffill’, None}, default None\n",
    "Method to use for filling holes in reindexed Series pad / ffill: propagate last valid observation forward to next valid backfill / bfill: use NEXT valid observation to fill gap\n",
    "\n",
    "axis :\n",
    "{0 or ‘index’, 1 or ‘columns’}\n",
    "\n",
    "inplace :\n",
    "boolean, default False\n",
    "If True, fill in place. Note: this will modify any other views on this object, (e.g. a no-copy slice for a column in a DataFrame).\n",
    "\n",
    "limit :\n",
    "int, default None\n",
    "If method is specified, this is the maximum number of consecutive NaN values to forward/backward fill. In other words, if there is a gap with more than this number of consecutive NaNs, it will only be partially filled. If method is not specified, this is the maximum number of entries along the entire axis where NaNs will be filled. Must be greater than 0 if not None.\n",
    "\n",
    "downcast :\n",
    "dict, default is None\n",
    "a dict of item->dtype of what to downcast if possible, or the string ‘infer’ which will try to downcast to an appropriate equal type (e.g. float64 to int64 if possible)\n",
    "\n",
    "#### Returns:\n",
    "filled : DataFrame"
   ]
  },
  {
   "cell_type": "code",
   "execution_count": null,
   "metadata": {},
   "outputs": [],
   "source": [
    "df = pd.DataFrame([[np.nan, 2, np.nan, 0],\n",
    "...                    [3, 4, np.nan, 1],\n",
    "...                    [np.nan, np.nan, np.nan, 5],\n",
    "...                    [np.nan, 3, np.nan, 4]],\n",
    "...                    columns=list('ABCD'))\n",
    "df \n",
    "df.fillna(0) #Replace all NaN elements with 0s.\n",
    "values = {'A': 0, 'B': 1, 'C': 2, 'D': 3}\n",
    "df.fillna(value=values) #Replace all NaN elements in column ‘A’, ‘B’, ‘C’, and ‘D’, with 0, 1, 2, and 3 respectively.\n",
    "df.fillna(value=values, limit=1) #Only replace the first NaN element."
   ]
  }
 ],
 "metadata": {
  "kernelspec": {
   "display_name": "Python 3",
   "language": "python",
   "name": "python3"
  }
 },
 "nbformat": 4,
 "nbformat_minor": 2
}
