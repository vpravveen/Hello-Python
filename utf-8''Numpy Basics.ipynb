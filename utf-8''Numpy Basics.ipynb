{
  "cells": [
    {
      "metadata": {},
      "cell_type": "markdown",
      "source": "# NUMPY BASICS"
    },
    {
      "metadata": {},
      "cell_type": "markdown",
      "source": "NumPy, which stands for Numerical Python, is a library consisting of multidimensional array objects that supports 'vectorised code' paradigm (ie) operations that are performed on multiple components at the same time. For example, we have a matrix or array, if we want to square each term, we use loops in normal programming paradigm whereas in vectorized code paradigm, we just square the matrix or array object."
    },
    {
      "metadata": {},
      "cell_type": "markdown",
      "source": "Numpy Arrays : A homogenous multidimensional construct"
    },
    {
      "metadata": {},
      "cell_type": "markdown",
      "source": "Index in numpy array starts with '0'"
    },
    {
      "metadata": {
        "trusted": true
      },
      "cell_type": "code",
      "source": "import numpy as np ",
      "execution_count": null,
      "outputs": []
    },
    {
      "metadata": {
        "trusted": true
      },
      "cell_type": "code",
      "source": "array_1d = np.array([1,2,3,4]) #This is an example of one dimensional array\n\narray_2d = np.array([1,2,3],[4,5,6]) #This is an example of two dimensional array",
      "execution_count": null,
      "outputs": []
    },
    {
      "metadata": {
        "trusted": true
      },
      "cell_type": "code",
      "source": "type(array_1d)\n\ntype(array_2d)",
      "execution_count": null,
      "outputs": []
    },
    {
      "metadata": {},
      "cell_type": "markdown",
      "source": "### Advantages of numpy:"
    },
    {
      "metadata": {},
      "cell_type": "markdown",
      "source": "1.You can write vectorized code on Numpy arrays, not on lists, which is convenient to read and write and also concise.\n\n2.Numpy is much faster than standard python ways.\n\n3.Vectorized code typically does not contain explicit looping, indexing etc ( all of this happens behind the scenes in a precompiled C code)\n"
    },
    {
      "metadata": {
        "trusted": true
      },
      "cell_type": "code",
      "source": "ar1=np.aray([1,2])\n\nar2=np.array([3,4])\n\nar3=ar1* ar2\n\nprint(ar3)",
      "execution_count": null,
      "outputs": []
    },
    {
      "metadata": {},
      "cell_type": "markdown",
      "source": "### Ways to create numpy arays:"
    },
    {
      "metadata": {
        "trusted": true
      },
      "cell_type": "code",
      "source": "np.array([1,23,45]) #Using List \n\nnp.array([1,2,a,b]) #Using Tuple\n",
      "execution_count": null,
      "outputs": []
    },
    {
      "metadata": {
        "trusted": true
      },
      "cell_type": "code",
      "source": "np.ones((4,3),int) \n\n\"\"\"numpy.ones(shape, dtype=None, order='C')\nReturn a new array of given shape and type, filled with ones.\n\nParameters:\nshape : int or sequence of ints\nShape of the new array, e.g., (2, 3) \n\ndtype : data-type, optional\nThe desired data-type for the array, e.g., numpy.int8. Default is numpy.float64.\n\norder : {‘C’, ‘F’}, optional, default: C\nWhether to store multi-dimensional data in row-major (C-style) or column-major (Fortran-style) order in memory\"\"\"\n",
      "execution_count": null,
      "outputs": []
    },
    {
      "metadata": {
        "trusted": true
      },
      "cell_type": "code",
      "source": "np.zeros(2,4)\n\n\"\"\"numpy.zeros(shape, dtype=float, order='C')\nReturn a new array of given shape and type, filled with zeros.\n\nParameters:\t\nshape : int or sequence of ints\nShape of the new array, e.g., (1, 2) \n\ndtype : data-type, optional\nThe desired data-type for the array, e.g., numpy.int8. Default is numpy.float64.\n\norder : {‘C’, ‘F’}, optional\nWhether to store multidimensional data in C- or Fortran-contiguous (row- or column-wise) order in memory\"\"\"",
      "execution_count": null,
      "outputs": []
    },
    {
      "metadata": {
        "trusted": true
      },
      "cell_type": "code",
      "source": "np.random.random() #Return random floats in the half-open interval [0.0, 1.0).",
      "execution_count": null,
      "outputs": []
    },
    {
      "metadata": {
        "trusted": true
      },
      "cell_type": "code",
      "source": "np.arange(10,100,5) #Creates a np array with incremental values of fined step size\n\n\"\"\"numpy.arange([start, ]stop, [step, ]dtype=None)\nReturn evenly spaced values within a given interval.\nValues are generated within the half-open interval [start, stop)\n\nParameters:\nstart : number, optional\nStart of interval. The interval includes this value. The default start value is 0.\n\nstop : number\nEnd of interval. \n\nstep : number, optional\nSpacing between values.The default step size is 1. \n\ndtype : dtype\nThe type of the output array. If dtype is not given, infer the data type from the other input arguments.\n",
      "execution_count": null,
      "outputs": []
    },
    {
      "metadata": {
        "trusted": true
      },
      "cell_type": "code",
      "source": "np.linspace(15,18,25) \n\n\"\"\"numpy.linspace(start, stop, num, endpoint=True, retstep=False, dtype=None)[source]\nReturn evenly spaced numbers over a specified interval\n\nParameters:\nstart : scalar\nThe starting value of the sequence.\n\nstop : scalar\nThe end value of the sequence, unless endpoint is set to False. \n\nnum : int, optional\nNumber of samples to generate. Default is 50. Must be non-negative.\n\nendpoint : bool, optional\nIf True, stop is the last sample. Otherwise, it is not included. Default is True.\n\nretstep : bool, optional\nIf True, return (samples, step), where step is the spacing between samples.\n\ndtype : dtype, optional\nThe type of the output array. If dtype is not given, infer the data type from the other input arguments\"\"\"\n\n",
      "execution_count": null,
      "outputs": []
    },
    {
      "metadata": {},
      "cell_type": "markdown",
      "source": "### Reshaping the numpy array"
    },
    {
      "metadata": {
        "trusted": true
      },
      "cell_type": "code",
      "source": "a = np.arange(6)\nnp.reshape(a, (2, 3))\n\n\"\"\"Parameters:\na : array_like\nArray to be reshaped.\n\nnewshape : int or tuple of ints\nThe new shape should be compatible with the original shape\"\"\"",
      "execution_count": null,
      "outputs": []
    },
    {
      "metadata": {
        "trusted": true
      },
      "cell_type": "markdown",
      "source": "### Subseting np arrays:"
    },
    {
      "metadata": {
        "trusted": true
      },
      "cell_type": "code",
      "source": "array_1d[2]  #specific element index\n\narray_1D[[2,5,6]] # Accessing using index of the element",
      "execution_count": null,
      "outputs": []
    },
    {
      "metadata": {
        "trusted": true
      },
      "cell_type": "code",
      "source": "print(array_1d[2:]) # Slicing third element onwards",
      "execution_count": null,
      "outputs": []
    },
    {
      "metadata": {
        "trusted": true
      },
      "cell_type": "code",
      "source": "array_1d[:3] # Slicing first three",
      "execution_count": null,
      "outputs": []
    },
    {
      "metadata": {
        "trusted": true
      },
      "cell_type": "code",
      "source": "array_1d[2:7] # Slicing 3rd element to 7th element",
      "execution_count": null,
      "outputs": []
    },
    {
      "metadata": {
        "trusted": true
      },
      "cell_type": "code",
      "source": "array_1d[0::2]  #Subset starting from '0' with increment of '2'.",
      "execution_count": null,
      "outputs": []
    },
    {
      "metadata": {},
      "cell_type": "markdown",
      "source": "#### Iterating through np arrays: Arrays are ideally not meant to be iterated."
    },
    {
      "metadata": {
        "trusted": true
      },
      "cell_type": "code",
      "source": "for i in array_1d:\n      print(i**2)",
      "execution_count": null,
      "outputs": []
    },
    {
      "metadata": {},
      "cell_type": "markdown",
      "source": "### Time Stamp in python:"
    },
    {
      "metadata": {
        "trusted": true
      },
      "cell_type": "code",
      "source": "time.time()  # Return the time in seconds",
      "execution_count": null,
      "outputs": []
    },
    {
      "metadata": {},
      "cell_type": "markdown",
      "source": "## Basic operations on np arrays:"
    },
    {
      "metadata": {
        "trusted": true
      },
      "cell_type": "code",
      "source": "a=np.array([1,2,3,4])\n\nb=np.array([3,4,5,6])\n\narr=np.array([6,7,8,9])\n\narr1=np.array([5,6,7,8])\n\narr.reshape(4,4) # Reshapes an array",
      "execution_count": null,
      "outputs": []
    },
    {
      "metadata": {
        "trusted": true
      },
      "cell_type": "code",
      "source": "arr.T(a) # Transpose a np array",
      "execution_count": null,
      "outputs": []
    },
    {
      "metadata": {
        "trusted": true
      },
      "cell_type": "code",
      "source": "np.hstack((arr,arr1) #Horizontal stacking ",
      "execution_count": null,
      "outputs": []
    },
    {
      "metadata": {
        "trusted": true
      },
      "cell_type": "code",
      "source": "np.vstack((arr,arr1)) #Vertical stacking",
      "execution_count": null,
      "outputs": []
    },
    {
      "metadata": {},
      "cell_type": "markdown",
      "source": "## Mathematical Operations on np arrays:"
    },
    {
      "metadata": {
        "trusted": true
      },
      "cell_type": "code",
      "source": "np.sin(a) # Print sine of one angle",
      "execution_count": null,
      "outputs": []
    },
    {
      "metadata": {
        "trusted": true
      },
      "cell_type": "code",
      "source": "np.cos(a) # Print cosine of one angle",
      "execution_count": null,
      "outputs": []
    },
    {
      "metadata": {
        "trusted": true
      },
      "cell_type": "code",
      "source": "np.tan(a) # Print tangent of one angle",
      "execution_count": null,
      "outputs": []
    },
    {
      "metadata": {
        "trusted": true
      },
      "cell_type": "code",
      "source": "np.exp(a) # Calculate the exponential of all elements in input array",
      "execution_count": null,
      "outputs": []
    },
    {
      "metadata": {
        "trusted": true
      },
      "cell_type": "code",
      "source": "np.log(a) # Returns the natural logarithm",
      "execution_count": null,
      "outputs": []
    },
    {
      "metadata": {},
      "cell_type": "markdown",
      "source": "## Basic linear operations on np arrays: Numpy provides np.linalg package to apply the following linear algebra operations."
    },
    {
      "metadata": {
        "trusted": true
      },
      "cell_type": "code",
      "source": "a= [[80,75,85,90,95],[75,80,75,85,100],[80,80,80,90,95]]\n\nb=[[1,2,3,4],[5,6,7,8],[4,5,6,7]]\n\n\nnp.linalg.inv(a) # Returns the inverse of a matrix",
      "execution_count": null,
      "outputs": []
    },
    {
      "metadata": {
        "trusted": true
      },
      "cell_type": "code",
      "source": "np.linalg.det(a) # Determinant of a matrix",
      "execution_count": null,
      "outputs": []
    },
    {
      "metadata": {
        "trusted": true
      },
      "cell_type": "code",
      "source": "np.linalg.eig(a) # Returns the eigen values and eigen vectors of a matrix",
      "execution_count": null,
      "outputs": []
    },
    {
      "metadata": {
        "trusted": true
      },
      "cell_type": "code",
      "source": "np.dot(a,b) # Multiply matrices using dot product",
      "execution_count": null,
      "outputs": []
    },
    {
      "metadata": {},
      "cell_type": "markdown",
      "source": "User Defined Function: Whenever we are applying user defined function, it should be applied in a vectorized way."
    },
    {
      "metadata": {
        "trusted": true
      },
      "cell_type": "code",
      "source": "f=np.vectorize(lambda x: x/(x+1))\n\nf(arr)",
      "execution_count": null,
      "outputs": []
    }
  ],
  "metadata": {
    "kernelspec": {
      "name": "python36",
      "display_name": "Python 3.6",
      "language": "python"
    }
  },
  "nbformat": 4,
  "nbformat_minor": 1
}